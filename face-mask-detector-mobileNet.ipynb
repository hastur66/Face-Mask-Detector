{
 "cells": [
  {
   "cell_type": "code",
   "execution_count": 2,
   "metadata": {},
   "outputs": [],
   "source": [
    "import tensorflow as tf\n",
    "import numpy as np\n",
    "import matplotlib.pyplot as plt\n",
    "import os\n",
    "from PIL import Image, ImageOps\n",
    "\n",
    "import keras_preprocessing\n",
    "from keras_preprocessing import image\n",
    "from keras_preprocessing.image import ImageDataGenerator\n",
    "from tensorflow.keras.callbacks import Callback, ModelCheckpoint, EarlyStopping\n",
    "from tensorflow.keras.optimizers import Adam\n",
    "from tensorflow.keras.metrics import Recall, Precision\n",
    "\n",
    "%matplotlib inline"
   ]
  },
  {
   "cell_type": "code",
   "execution_count": 3,
   "metadata": {},
   "outputs": [],
   "source": [
    "from tensorflow.keras import Model\n",
    "from tensorflow.keras.applications import MobileNet\n",
    "from tensorflow.keras.applications.mobilenet import preprocess_input as mobilenet_process_input\n",
    "from tensorflow.keras.layers import AveragePooling2D, Dropout, Dense, Flatten\n",
    "model_name = 'MobileNet'"
   ]
  },
  {
   "cell_type": "code",
   "execution_count": 4,
   "metadata": {},
   "outputs": [],
   "source": [
    "image_size = 224 \n",
    "batch_size = 32\n",
    "init_lr = 0.0_001\n",
    "num_epochs = 20\n",
    "\n",
    "!mkdir './MobileNet'\n",
    "save_MobileNet = './MobileNet/'"
   ]
  },
  {
   "cell_type": "markdown",
   "metadata": {},
   "source": [
    "## Load Dataset"
   ]
  },
  {
   "cell_type": "code",
   "execution_count": 5,
   "metadata": {},
   "outputs": [],
   "source": [
    "dir_name = '../input/face-mask-12k-images-dataset/Face Mask Dataset/' \n",
    "\n",
    "train_path = os.path.join(dir_name, 'Train')\n",
    "train_mask_path = os.path.join(dir_name, 'WithMask')\n",
    "train_no_mask_path = os.path.join(dir_name, 'WithOutMask')\n",
    "\n",
    "test_path = os.path.join(dir_name, 'Test')\n",
    "test_mask_path = os.path.join(dir_name, 'WithMask')\n",
    "test_no_mask_path = os.path.join(dir_name, 'WithOutMask')\n",
    "\n",
    "val_path = os.path.join(dir_name, 'Validation')\n",
    "val_mask_path = os.path.join(dir_name, 'WithMask')\n",
    "val_no_mask_path = os.path.join(dir_name, 'WithOutMask')"
   ]
  },
  {
   "cell_type": "markdown",
   "metadata": {},
   "source": [
    "## Preprocessing Dataset"
   ]
  },
  {
   "cell_type": "code",
   "execution_count": 6,
   "metadata": {},
   "outputs": [
    {
     "name": "stdout",
     "output_type": "stream",
     "text": [
      "Found 10000 images belonging to 2 classes.\n",
      "Found 992 images belonging to 2 classes.\n"
     ]
    }
   ],
   "source": [
    "train_datagen = ImageDataGenerator(rescale = 1./255.,\n",
    "                                  zoom_range = 0.2,\n",
    "                                  width_shift_range = 0.1,\n",
    "                                  height_shift_range = 0.1,\n",
    "                                  shear_range = 0.15, \n",
    "                                  fill_mode = 'nearest',\n",
    "                                  horizontal_flip = True)\n",
    "\n",
    "test_datagen = ImageDataGenerator(rescale = 1./255.)\n",
    "\n",
    "train_generator = train_datagen.flow_from_directory(train_path,\n",
    "                                                   batch_size = batch_size,\n",
    "                                                   class_mode = 'categorical',\n",
    "                                                   target_size = (image_size, image_size))\n",
    "\n",
    "validation_generator = test_datagen.flow_from_directory(test_path,\n",
    "                                                 batch_size = batch_size,\n",
    "                                                 class_mode = 'categorical',\n",
    "                                                 target_size = (image_size, image_size))"
   ]
  },
  {
   "cell_type": "markdown",
   "metadata": {},
   "source": [
    "## Model"
   ]
  },
  {
   "cell_type": "code",
   "execution_count": 7,
   "metadata": {},
   "outputs": [
    {
     "name": "stdout",
     "output_type": "stream",
     "text": [
      "Downloading data from https://storage.googleapis.com/tensorflow/keras-applications/mobilenet/mobilenet_1_0_224_tf_no_top.h5\n",
      "17227776/17225924 [==============================] - 0s 0us/step\n"
     ]
    }
   ],
   "source": [
    "mobileNet_base = MobileNet(include_top=False, pooling=None, input_shape=(image_size, image_size, 3))\n",
    "\n",
    "inner = mobileNet_base.output\n",
    "\n",
    "inner = AveragePooling2D(pool_size=(7, 7))(inner)\n",
    "inner = Flatten()(inner)\n",
    "inner = Dense(units=256, activation='relu')(inner)\n",
    "inner = Dropout(0.2)(inner)\n",
    "inner = Dense(units=2, activation='softmax')(inner)\n",
    "\n",
    "model = Model(inputs=mobileNet_base.input, outputs=inner)"
   ]
  },
  {
   "cell_type": "code",
   "execution_count": 8,
   "metadata": {},
   "outputs": [
    {
     "name": "stdout",
     "output_type": "stream",
     "text": [
      "Model: \"model\"\n",
      "_________________________________________________________________\n",
      "Layer (type)                 Output Shape              Param #   \n",
      "=================================================================\n",
      "input_1 (InputLayer)         [(None, 224, 224, 3)]     0         \n",
      "_________________________________________________________________\n",
      "conv1 (Conv2D)               (None, 112, 112, 32)      864       \n",
      "_________________________________________________________________\n",
      "conv1_bn (BatchNormalization (None, 112, 112, 32)      128       \n",
      "_________________________________________________________________\n",
      "conv1_relu (ReLU)            (None, 112, 112, 32)      0         \n",
      "_________________________________________________________________\n",
      "conv_dw_1 (DepthwiseConv2D)  (None, 112, 112, 32)      288       \n",
      "_________________________________________________________________\n",
      "conv_dw_1_bn (BatchNormaliza (None, 112, 112, 32)      128       \n",
      "_________________________________________________________________\n",
      "conv_dw_1_relu (ReLU)        (None, 112, 112, 32)      0         \n",
      "_________________________________________________________________\n",
      "conv_pw_1 (Conv2D)           (None, 112, 112, 64)      2048      \n",
      "_________________________________________________________________\n",
      "conv_pw_1_bn (BatchNormaliza (None, 112, 112, 64)      256       \n",
      "_________________________________________________________________\n",
      "conv_pw_1_relu (ReLU)        (None, 112, 112, 64)      0         \n",
      "_________________________________________________________________\n",
      "conv_pad_2 (ZeroPadding2D)   (None, 113, 113, 64)      0         \n",
      "_________________________________________________________________\n",
      "conv_dw_2 (DepthwiseConv2D)  (None, 56, 56, 64)        576       \n",
      "_________________________________________________________________\n",
      "conv_dw_2_bn (BatchNormaliza (None, 56, 56, 64)        256       \n",
      "_________________________________________________________________\n",
      "conv_dw_2_relu (ReLU)        (None, 56, 56, 64)        0         \n",
      "_________________________________________________________________\n",
      "conv_pw_2 (Conv2D)           (None, 56, 56, 128)       8192      \n",
      "_________________________________________________________________\n",
      "conv_pw_2_bn (BatchNormaliza (None, 56, 56, 128)       512       \n",
      "_________________________________________________________________\n",
      "conv_pw_2_relu (ReLU)        (None, 56, 56, 128)       0         \n",
      "_________________________________________________________________\n",
      "conv_dw_3 (DepthwiseConv2D)  (None, 56, 56, 128)       1152      \n",
      "_________________________________________________________________\n",
      "conv_dw_3_bn (BatchNormaliza (None, 56, 56, 128)       512       \n",
      "_________________________________________________________________\n",
      "conv_dw_3_relu (ReLU)        (None, 56, 56, 128)       0         \n",
      "_________________________________________________________________\n",
      "conv_pw_3 (Conv2D)           (None, 56, 56, 128)       16384     \n",
      "_________________________________________________________________\n",
      "conv_pw_3_bn (BatchNormaliza (None, 56, 56, 128)       512       \n",
      "_________________________________________________________________\n",
      "conv_pw_3_relu (ReLU)        (None, 56, 56, 128)       0         \n",
      "_________________________________________________________________\n",
      "conv_pad_4 (ZeroPadding2D)   (None, 57, 57, 128)       0         \n",
      "_________________________________________________________________\n",
      "conv_dw_4 (DepthwiseConv2D)  (None, 28, 28, 128)       1152      \n",
      "_________________________________________________________________\n",
      "conv_dw_4_bn (BatchNormaliza (None, 28, 28, 128)       512       \n",
      "_________________________________________________________________\n",
      "conv_dw_4_relu (ReLU)        (None, 28, 28, 128)       0         \n",
      "_________________________________________________________________\n",
      "conv_pw_4 (Conv2D)           (None, 28, 28, 256)       32768     \n",
      "_________________________________________________________________\n",
      "conv_pw_4_bn (BatchNormaliza (None, 28, 28, 256)       1024      \n",
      "_________________________________________________________________\n",
      "conv_pw_4_relu (ReLU)        (None, 28, 28, 256)       0         \n",
      "_________________________________________________________________\n",
      "conv_dw_5 (DepthwiseConv2D)  (None, 28, 28, 256)       2304      \n",
      "_________________________________________________________________\n",
      "conv_dw_5_bn (BatchNormaliza (None, 28, 28, 256)       1024      \n",
      "_________________________________________________________________\n",
      "conv_dw_5_relu (ReLU)        (None, 28, 28, 256)       0         \n",
      "_________________________________________________________________\n",
      "conv_pw_5 (Conv2D)           (None, 28, 28, 256)       65536     \n",
      "_________________________________________________________________\n",
      "conv_pw_5_bn (BatchNormaliza (None, 28, 28, 256)       1024      \n",
      "_________________________________________________________________\n",
      "conv_pw_5_relu (ReLU)        (None, 28, 28, 256)       0         \n",
      "_________________________________________________________________\n",
      "conv_pad_6 (ZeroPadding2D)   (None, 29, 29, 256)       0         \n",
      "_________________________________________________________________\n",
      "conv_dw_6 (DepthwiseConv2D)  (None, 14, 14, 256)       2304      \n",
      "_________________________________________________________________\n",
      "conv_dw_6_bn (BatchNormaliza (None, 14, 14, 256)       1024      \n",
      "_________________________________________________________________\n",
      "conv_dw_6_relu (ReLU)        (None, 14, 14, 256)       0         \n",
      "_________________________________________________________________\n",
      "conv_pw_6 (Conv2D)           (None, 14, 14, 512)       131072    \n",
      "_________________________________________________________________\n",
      "conv_pw_6_bn (BatchNormaliza (None, 14, 14, 512)       2048      \n",
      "_________________________________________________________________\n",
      "conv_pw_6_relu (ReLU)        (None, 14, 14, 512)       0         \n",
      "_________________________________________________________________\n",
      "conv_dw_7 (DepthwiseConv2D)  (None, 14, 14, 512)       4608      \n",
      "_________________________________________________________________\n",
      "conv_dw_7_bn (BatchNormaliza (None, 14, 14, 512)       2048      \n",
      "_________________________________________________________________\n",
      "conv_dw_7_relu (ReLU)        (None, 14, 14, 512)       0         \n",
      "_________________________________________________________________\n",
      "conv_pw_7 (Conv2D)           (None, 14, 14, 512)       262144    \n",
      "_________________________________________________________________\n",
      "conv_pw_7_bn (BatchNormaliza (None, 14, 14, 512)       2048      \n",
      "_________________________________________________________________\n",
      "conv_pw_7_relu (ReLU)        (None, 14, 14, 512)       0         \n",
      "_________________________________________________________________\n",
      "conv_dw_8 (DepthwiseConv2D)  (None, 14, 14, 512)       4608      \n",
      "_________________________________________________________________\n",
      "conv_dw_8_bn (BatchNormaliza (None, 14, 14, 512)       2048      \n",
      "_________________________________________________________________\n",
      "conv_dw_8_relu (ReLU)        (None, 14, 14, 512)       0         \n",
      "_________________________________________________________________\n",
      "conv_pw_8 (Conv2D)           (None, 14, 14, 512)       262144    \n",
      "_________________________________________________________________\n",
      "conv_pw_8_bn (BatchNormaliza (None, 14, 14, 512)       2048      \n",
      "_________________________________________________________________\n",
      "conv_pw_8_relu (ReLU)        (None, 14, 14, 512)       0         \n",
      "_________________________________________________________________\n",
      "conv_dw_9 (DepthwiseConv2D)  (None, 14, 14, 512)       4608      \n",
      "_________________________________________________________________\n",
      "conv_dw_9_bn (BatchNormaliza (None, 14, 14, 512)       2048      \n",
      "_________________________________________________________________\n",
      "conv_dw_9_relu (ReLU)        (None, 14, 14, 512)       0         \n",
      "_________________________________________________________________\n",
      "conv_pw_9 (Conv2D)           (None, 14, 14, 512)       262144    \n",
      "_________________________________________________________________\n",
      "conv_pw_9_bn (BatchNormaliza (None, 14, 14, 512)       2048      \n",
      "_________________________________________________________________\n",
      "conv_pw_9_relu (ReLU)        (None, 14, 14, 512)       0         \n",
      "_________________________________________________________________\n",
      "conv_dw_10 (DepthwiseConv2D) (None, 14, 14, 512)       4608      \n",
      "_________________________________________________________________\n",
      "conv_dw_10_bn (BatchNormaliz (None, 14, 14, 512)       2048      \n",
      "_________________________________________________________________\n",
      "conv_dw_10_relu (ReLU)       (None, 14, 14, 512)       0         \n",
      "_________________________________________________________________\n",
      "conv_pw_10 (Conv2D)          (None, 14, 14, 512)       262144    \n",
      "_________________________________________________________________\n",
      "conv_pw_10_bn (BatchNormaliz (None, 14, 14, 512)       2048      \n",
      "_________________________________________________________________\n",
      "conv_pw_10_relu (ReLU)       (None, 14, 14, 512)       0         \n",
      "_________________________________________________________________\n",
      "conv_dw_11 (DepthwiseConv2D) (None, 14, 14, 512)       4608      \n",
      "_________________________________________________________________\n",
      "conv_dw_11_bn (BatchNormaliz (None, 14, 14, 512)       2048      \n",
      "_________________________________________________________________\n",
      "conv_dw_11_relu (ReLU)       (None, 14, 14, 512)       0         \n",
      "_________________________________________________________________\n",
      "conv_pw_11 (Conv2D)          (None, 14, 14, 512)       262144    \n",
      "_________________________________________________________________\n",
      "conv_pw_11_bn (BatchNormaliz (None, 14, 14, 512)       2048      \n",
      "_________________________________________________________________\n",
      "conv_pw_11_relu (ReLU)       (None, 14, 14, 512)       0         \n",
      "_________________________________________________________________\n",
      "conv_pad_12 (ZeroPadding2D)  (None, 15, 15, 512)       0         \n",
      "_________________________________________________________________\n",
      "conv_dw_12 (DepthwiseConv2D) (None, 7, 7, 512)         4608      \n",
      "_________________________________________________________________\n",
      "conv_dw_12_bn (BatchNormaliz (None, 7, 7, 512)         2048      \n",
      "_________________________________________________________________\n",
      "conv_dw_12_relu (ReLU)       (None, 7, 7, 512)         0         \n",
      "_________________________________________________________________\n",
      "conv_pw_12 (Conv2D)          (None, 7, 7, 1024)        524288    \n",
      "_________________________________________________________________\n",
      "conv_pw_12_bn (BatchNormaliz (None, 7, 7, 1024)        4096      \n",
      "_________________________________________________________________\n",
      "conv_pw_12_relu (ReLU)       (None, 7, 7, 1024)        0         \n",
      "_________________________________________________________________\n",
      "conv_dw_13 (DepthwiseConv2D) (None, 7, 7, 1024)        9216      \n",
      "_________________________________________________________________\n",
      "conv_dw_13_bn (BatchNormaliz (None, 7, 7, 1024)        4096      \n",
      "_________________________________________________________________\n",
      "conv_dw_13_relu (ReLU)       (None, 7, 7, 1024)        0         \n",
      "_________________________________________________________________\n",
      "conv_pw_13 (Conv2D)          (None, 7, 7, 1024)        1048576   \n",
      "_________________________________________________________________\n",
      "conv_pw_13_bn (BatchNormaliz (None, 7, 7, 1024)        4096      \n",
      "_________________________________________________________________\n",
      "conv_pw_13_relu (ReLU)       (None, 7, 7, 1024)        0         \n",
      "_________________________________________________________________\n",
      "average_pooling2d (AveragePo (None, 1, 1, 1024)        0         \n",
      "_________________________________________________________________\n",
      "flatten (Flatten)            (None, 1024)              0         \n",
      "_________________________________________________________________\n",
      "dense (Dense)                (None, 256)               262400    \n",
      "_________________________________________________________________\n",
      "dropout (Dropout)            (None, 256)               0         \n",
      "_________________________________________________________________\n",
      "dense_1 (Dense)              (None, 2)                 514       \n",
      "=================================================================\n",
      "Total params: 3,491,778\n",
      "Trainable params: 3,469,890\n",
      "Non-trainable params: 21,888\n",
      "_________________________________________________________________\n"
     ]
    }
   ],
   "source": [
    "model.summary()"
   ]
  },
  {
   "cell_type": "code",
   "execution_count": 9,
   "metadata": {},
   "outputs": [],
   "source": [
    "model.compile(loss='binary_crossentropy',\n",
    "              optimizer=Adam(lr=init_lr, decay=init_lr / num_epochs),\n",
    "              metrics=[Recall(name='recall'), \n",
    "                       'accuracy', \n",
    "                       Precision(name='precision')])"
   ]
  },
  {
   "cell_type": "code",
   "execution_count": 10,
   "metadata": {},
   "outputs": [],
   "source": [
    "model_save_callback = ModelCheckpoint(filepath='./model-epoch{epoch:03d}-recall-{val_recall:.3f}-acc-{val_accuracy:.3f}.h5',\n",
    "                                     monitor='val_recall', mode='max', \n",
    "                                     verbose=1, save_best_only=False, save_weights_only=True)\n",
    "\n",
    "early_stop_callback = EarlyStopping(monitor='val_recall',  min_delta=0, patience=15, verbose=1, mode='max')"
   ]
  },
  {
   "cell_type": "code",
   "execution_count": 11,
   "metadata": {},
   "outputs": [
    {
     "name": "stdout",
     "output_type": "stream",
     "text": [
      "Epoch 1/20\n",
      "312/312 [==============================] - 177s 550ms/step - loss: 0.0960 - recall: 0.9656 - accuracy: 0.9656 - precision: 0.9656 - val_loss: 0.0032 - val_recall: 0.9990 - val_accuracy: 0.9990 - val_precision: 0.9990\n",
      "\n",
      "Epoch 00001: saving model to ./model-epoch001-recall-0.999-acc-0.999.h5\n",
      "Epoch 2/20\n",
      "312/312 [==============================] - 121s 386ms/step - loss: 0.0070 - recall: 0.9976 - accuracy: 0.9976 - precision: 0.9976 - val_loss: 0.0016 - val_recall: 0.9990 - val_accuracy: 0.9990 - val_precision: 0.9990\n",
      "\n",
      "Epoch 00002: saving model to ./model-epoch002-recall-0.999-acc-0.999.h5\n",
      "Epoch 3/20\n",
      "312/312 [==============================] - 121s 387ms/step - loss: 0.0029 - recall: 0.9993 - accuracy: 0.9993 - precision: 0.9993 - val_loss: 0.0044 - val_recall: 0.9970 - val_accuracy: 0.9970 - val_precision: 0.9970\n",
      "\n",
      "Epoch 00003: saving model to ./model-epoch003-recall-0.997-acc-0.997.h5\n",
      "Epoch 4/20\n",
      "312/312 [==============================] - 121s 388ms/step - loss: 0.0031 - recall: 0.9989 - accuracy: 0.9989 - precision: 0.9989 - val_loss: 0.0067 - val_recall: 0.9980 - val_accuracy: 0.9980 - val_precision: 0.9980\n",
      "\n",
      "Epoch 00004: saving model to ./model-epoch004-recall-0.998-acc-0.998.h5\n",
      "Epoch 5/20\n",
      "312/312 [==============================] - 121s 388ms/step - loss: 0.0020 - recall: 0.9993 - accuracy: 0.9993 - precision: 0.9993 - val_loss: 1.7987e-04 - val_recall: 1.0000 - val_accuracy: 1.0000 - val_precision: 1.0000\n",
      "\n",
      "Epoch 00005: saving model to ./model-epoch005-recall-1.000-acc-1.000.h5\n",
      "Epoch 6/20\n",
      "312/312 [==============================] - 124s 397ms/step - loss: 0.0010 - recall: 0.9998 - accuracy: 0.9998 - precision: 0.9998 - val_loss: 0.0034 - val_recall: 0.9980 - val_accuracy: 0.9980 - val_precision: 0.9980\n",
      "\n",
      "Epoch 00006: saving model to ./model-epoch006-recall-0.998-acc-0.998.h5\n",
      "Epoch 7/20\n",
      "312/312 [==============================] - 122s 391ms/step - loss: 0.0028 - recall: 0.9992 - accuracy: 0.9992 - precision: 0.9992 - val_loss: 0.0031 - val_recall: 0.9990 - val_accuracy: 0.9990 - val_precision: 0.9990\n",
      "\n",
      "Epoch 00007: saving model to ./model-epoch007-recall-0.999-acc-0.999.h5\n",
      "Epoch 8/20\n",
      "312/312 [==============================] - 122s 392ms/step - loss: 0.0013 - recall: 0.9992 - accuracy: 0.9992 - precision: 0.9992 - val_loss: 0.0020 - val_recall: 0.9990 - val_accuracy: 0.9990 - val_precision: 0.9990\n",
      "\n",
      "Epoch 00008: saving model to ./model-epoch008-recall-0.999-acc-0.999.h5\n",
      "Epoch 9/20\n",
      "312/312 [==============================] - 123s 393ms/step - loss: 0.0015 - recall: 0.9996 - accuracy: 0.9996 - precision: 0.9996 - val_loss: 2.5166e-04 - val_recall: 1.0000 - val_accuracy: 1.0000 - val_precision: 1.0000\n",
      "\n",
      "Epoch 00009: saving model to ./model-epoch009-recall-1.000-acc-1.000.h5\n",
      "Epoch 10/20\n",
      "312/312 [==============================] - 122s 392ms/step - loss: 0.0057 - recall: 0.9993 - accuracy: 0.9993 - precision: 0.9993 - val_loss: 6.2078e-04 - val_recall: 1.0000 - val_accuracy: 1.0000 - val_precision: 1.0000\n",
      "\n",
      "Epoch 00010: saving model to ./model-epoch010-recall-1.000-acc-1.000.h5\n",
      "Epoch 11/20\n",
      "312/312 [==============================] - 121s 388ms/step - loss: 0.0014 - recall: 0.9997 - accuracy: 0.9997 - precision: 0.9997 - val_loss: 2.0031e-04 - val_recall: 1.0000 - val_accuracy: 1.0000 - val_precision: 1.0000\n",
      "\n",
      "Epoch 00011: saving model to ./model-epoch011-recall-1.000-acc-1.000.h5\n",
      "Epoch 12/20\n",
      "312/312 [==============================] - 121s 389ms/step - loss: 1.7873e-04 - recall: 1.0000 - accuracy: 1.0000 - precision: 1.0000 - val_loss: 6.9636e-05 - val_recall: 1.0000 - val_accuracy: 1.0000 - val_precision: 1.0000\n",
      "\n",
      "Epoch 00012: saving model to ./model-epoch012-recall-1.000-acc-1.000.h5\n",
      "Epoch 13/20\n",
      "312/312 [==============================] - 121s 388ms/step - loss: 0.0011 - recall: 0.9996 - accuracy: 0.9996 - precision: 0.9996 - val_loss: 4.4492e-05 - val_recall: 1.0000 - val_accuracy: 1.0000 - val_precision: 1.0000\n",
      "\n",
      "Epoch 00013: saving model to ./model-epoch013-recall-1.000-acc-1.000.h5\n",
      "Epoch 14/20\n",
      "312/312 [==============================] - 122s 390ms/step - loss: 0.0018 - recall: 0.9993 - accuracy: 0.9993 - precision: 0.9993 - val_loss: 7.1668e-04 - val_recall: 1.0000 - val_accuracy: 1.0000 - val_precision: 1.0000\n",
      "\n",
      "Epoch 00014: saving model to ./model-epoch014-recall-1.000-acc-1.000.h5\n",
      "Epoch 15/20\n",
      "312/312 [==============================] - 121s 388ms/step - loss: 0.0011 - recall: 0.9997 - accuracy: 0.9997 - precision: 0.9997 - val_loss: 2.7116e-04 - val_recall: 1.0000 - val_accuracy: 1.0000 - val_precision: 1.0000\n",
      "\n",
      "Epoch 00015: saving model to ./model-epoch015-recall-1.000-acc-1.000.h5\n",
      "Epoch 16/20\n",
      "312/312 [==============================] - 122s 389ms/step - loss: 4.3540e-04 - recall: 0.9998 - accuracy: 0.9998 - precision: 0.9998 - val_loss: 2.6888e-05 - val_recall: 1.0000 - val_accuracy: 1.0000 - val_precision: 1.0000\n",
      "\n",
      "Epoch 00016: saving model to ./model-epoch016-recall-1.000-acc-1.000.h5\n",
      "Epoch 17/20\n",
      "312/312 [==============================] - 121s 388ms/step - loss: 5.7988e-04 - recall: 0.9999 - accuracy: 0.9999 - precision: 0.9999 - val_loss: 2.3138e-04 - val_recall: 1.0000 - val_accuracy: 1.0000 - val_precision: 1.0000\n",
      "\n",
      "Epoch 00017: saving model to ./model-epoch017-recall-1.000-acc-1.000.h5\n",
      "Epoch 18/20\n",
      "312/312 [==============================] - 121s 387ms/step - loss: 0.0020 - recall: 0.9992 - accuracy: 0.9992 - precision: 0.9992 - val_loss: 5.3479e-05 - val_recall: 1.0000 - val_accuracy: 1.0000 - val_precision: 1.0000\n",
      "\n",
      "Epoch 00018: saving model to ./model-epoch018-recall-1.000-acc-1.000.h5\n",
      "Epoch 19/20\n",
      "312/312 [==============================] - 121s 387ms/step - loss: 0.0013 - recall: 0.9998 - accuracy: 0.9998 - precision: 0.9998 - val_loss: 0.0018 - val_recall: 0.9990 - val_accuracy: 0.9990 - val_precision: 0.9990\n",
      "\n",
      "Epoch 00019: saving model to ./model-epoch019-recall-0.999-acc-0.999.h5\n",
      "Epoch 20/20\n",
      "312/312 [==============================] - 121s 387ms/step - loss: 0.0015 - recall: 0.9996 - accuracy: 0.9996 - precision: 0.9996 - val_loss: 0.0017 - val_recall: 0.9990 - val_accuracy: 0.9990 - val_precision: 0.9990\n",
      "\n",
      "Epoch 00020: saving model to ./model-epoch020-recall-0.999-acc-0.999.h5\n",
      "Epoch 00020: early stopping\n"
     ]
    }
   ],
   "source": [
    "history = model.fit(train_generator,\n",
    "                    steps_per_epoch=10000 // batch_size,\n",
    "                    validation_data=validation_generator,\n",
    "                    validation_steps=992 // batch_size,\n",
    "                    epochs=num_epochs,\n",
    "                    callbacks=[model_save_callback, early_stop_callback],\n",
    "                    verbose=1)"
   ]
  },
  {
   "cell_type": "code",
   "execution_count": 12,
   "metadata": {},
   "outputs": [],
   "source": [
    "model.save('my_model.h5')"
   ]
  },
  {
   "cell_type": "markdown",
   "metadata": {},
   "source": [
    "## Evaluate Model"
   ]
  },
  {
   "cell_type": "code",
   "execution_count": 13,
   "metadata": {},
   "outputs": [
    {
     "data": {
      "text/html": [
       "<div>\n",
       "<style scoped>\n",
       "    .dataframe tbody tr th:only-of-type {\n",
       "        vertical-align: middle;\n",
       "    }\n",
       "\n",
       "    .dataframe tbody tr th {\n",
       "        vertical-align: top;\n",
       "    }\n",
       "\n",
       "    .dataframe thead th {\n",
       "        text-align: right;\n",
       "    }\n",
       "</style>\n",
       "<table border=\"1\" class=\"dataframe\">\n",
       "  <thead>\n",
       "    <tr style=\"text-align: right;\">\n",
       "      <th></th>\n",
       "      <th>loss</th>\n",
       "      <th>recall</th>\n",
       "      <th>accuracy</th>\n",
       "      <th>precision</th>\n",
       "      <th>val_loss</th>\n",
       "      <th>val_recall</th>\n",
       "      <th>val_accuracy</th>\n",
       "      <th>val_precision</th>\n",
       "    </tr>\n",
       "  </thead>\n",
       "  <tbody>\n",
       "    <tr>\n",
       "      <th>10</th>\n",
       "      <td>0.001474</td>\n",
       "      <td>0.999599</td>\n",
       "      <td>0.999599</td>\n",
       "      <td>0.999599</td>\n",
       "      <td>0.000200</td>\n",
       "      <td>1.000000</td>\n",
       "      <td>1.000000</td>\n",
       "      <td>1.000000</td>\n",
       "    </tr>\n",
       "    <tr>\n",
       "      <th>12</th>\n",
       "      <td>0.000691</td>\n",
       "      <td>0.999699</td>\n",
       "      <td>0.999699</td>\n",
       "      <td>0.999699</td>\n",
       "      <td>0.000044</td>\n",
       "      <td>1.000000</td>\n",
       "      <td>1.000000</td>\n",
       "      <td>1.000000</td>\n",
       "    </tr>\n",
       "    <tr>\n",
       "      <th>17</th>\n",
       "      <td>0.001764</td>\n",
       "      <td>0.999298</td>\n",
       "      <td>0.999298</td>\n",
       "      <td>0.999298</td>\n",
       "      <td>0.000053</td>\n",
       "      <td>1.000000</td>\n",
       "      <td>1.000000</td>\n",
       "      <td>1.000000</td>\n",
       "    </tr>\n",
       "    <tr>\n",
       "      <th>4</th>\n",
       "      <td>0.002789</td>\n",
       "      <td>0.998997</td>\n",
       "      <td>0.998997</td>\n",
       "      <td>0.998997</td>\n",
       "      <td>0.000180</td>\n",
       "      <td>1.000000</td>\n",
       "      <td>1.000000</td>\n",
       "      <td>1.000000</td>\n",
       "    </tr>\n",
       "    <tr>\n",
       "      <th>16</th>\n",
       "      <td>0.001331</td>\n",
       "      <td>0.999599</td>\n",
       "      <td>0.999599</td>\n",
       "      <td>0.999599</td>\n",
       "      <td>0.000231</td>\n",
       "      <td>1.000000</td>\n",
       "      <td>1.000000</td>\n",
       "      <td>1.000000</td>\n",
       "    </tr>\n",
       "    <tr>\n",
       "      <th>15</th>\n",
       "      <td>0.000653</td>\n",
       "      <td>0.999599</td>\n",
       "      <td>0.999599</td>\n",
       "      <td>0.999599</td>\n",
       "      <td>0.000027</td>\n",
       "      <td>1.000000</td>\n",
       "      <td>1.000000</td>\n",
       "      <td>1.000000</td>\n",
       "    </tr>\n",
       "    <tr>\n",
       "      <th>14</th>\n",
       "      <td>0.001933</td>\n",
       "      <td>0.999398</td>\n",
       "      <td>0.999398</td>\n",
       "      <td>0.999398</td>\n",
       "      <td>0.000271</td>\n",
       "      <td>1.000000</td>\n",
       "      <td>1.000000</td>\n",
       "      <td>1.000000</td>\n",
       "    </tr>\n",
       "    <tr>\n",
       "      <th>8</th>\n",
       "      <td>0.001705</td>\n",
       "      <td>0.999699</td>\n",
       "      <td>0.999699</td>\n",
       "      <td>0.999699</td>\n",
       "      <td>0.000252</td>\n",
       "      <td>1.000000</td>\n",
       "      <td>1.000000</td>\n",
       "      <td>1.000000</td>\n",
       "    </tr>\n",
       "    <tr>\n",
       "      <th>9</th>\n",
       "      <td>0.004408</td>\n",
       "      <td>0.998997</td>\n",
       "      <td>0.998997</td>\n",
       "      <td>0.998997</td>\n",
       "      <td>0.000621</td>\n",
       "      <td>1.000000</td>\n",
       "      <td>1.000000</td>\n",
       "      <td>1.000000</td>\n",
       "    </tr>\n",
       "    <tr>\n",
       "      <th>13</th>\n",
       "      <td>0.001828</td>\n",
       "      <td>0.999197</td>\n",
       "      <td>0.999197</td>\n",
       "      <td>0.999197</td>\n",
       "      <td>0.000717</td>\n",
       "      <td>1.000000</td>\n",
       "      <td>1.000000</td>\n",
       "      <td>1.000000</td>\n",
       "    </tr>\n",
       "    <tr>\n",
       "      <th>11</th>\n",
       "      <td>0.000169</td>\n",
       "      <td>1.000000</td>\n",
       "      <td>1.000000</td>\n",
       "      <td>1.000000</td>\n",
       "      <td>0.000070</td>\n",
       "      <td>1.000000</td>\n",
       "      <td>1.000000</td>\n",
       "      <td>1.000000</td>\n",
       "    </tr>\n",
       "    <tr>\n",
       "      <th>18</th>\n",
       "      <td>0.002309</td>\n",
       "      <td>0.999498</td>\n",
       "      <td>0.999498</td>\n",
       "      <td>0.999498</td>\n",
       "      <td>0.001765</td>\n",
       "      <td>0.998992</td>\n",
       "      <td>0.998992</td>\n",
       "      <td>0.998992</td>\n",
       "    </tr>\n",
       "    <tr>\n",
       "      <th>0</th>\n",
       "      <td>0.036586</td>\n",
       "      <td>0.988664</td>\n",
       "      <td>0.988664</td>\n",
       "      <td>0.988664</td>\n",
       "      <td>0.003198</td>\n",
       "      <td>0.998992</td>\n",
       "      <td>0.998992</td>\n",
       "      <td>0.998992</td>\n",
       "    </tr>\n",
       "    <tr>\n",
       "      <th>1</th>\n",
       "      <td>0.007154</td>\n",
       "      <td>0.997893</td>\n",
       "      <td>0.997893</td>\n",
       "      <td>0.997893</td>\n",
       "      <td>0.001635</td>\n",
       "      <td>0.998992</td>\n",
       "      <td>0.998992</td>\n",
       "      <td>0.998992</td>\n",
       "    </tr>\n",
       "    <tr>\n",
       "      <th>7</th>\n",
       "      <td>0.001105</td>\n",
       "      <td>0.999599</td>\n",
       "      <td>0.999599</td>\n",
       "      <td>0.999599</td>\n",
       "      <td>0.001963</td>\n",
       "      <td>0.998992</td>\n",
       "      <td>0.998992</td>\n",
       "      <td>0.998992</td>\n",
       "    </tr>\n",
       "    <tr>\n",
       "      <th>6</th>\n",
       "      <td>0.002049</td>\n",
       "      <td>0.999498</td>\n",
       "      <td>0.999498</td>\n",
       "      <td>0.999498</td>\n",
       "      <td>0.003096</td>\n",
       "      <td>0.998992</td>\n",
       "      <td>0.998992</td>\n",
       "      <td>0.998992</td>\n",
       "    </tr>\n",
       "    <tr>\n",
       "      <th>19</th>\n",
       "      <td>0.001596</td>\n",
       "      <td>0.999599</td>\n",
       "      <td>0.999599</td>\n",
       "      <td>0.999599</td>\n",
       "      <td>0.001687</td>\n",
       "      <td>0.998992</td>\n",
       "      <td>0.998992</td>\n",
       "      <td>0.998992</td>\n",
       "    </tr>\n",
       "    <tr>\n",
       "      <th>5</th>\n",
       "      <td>0.002576</td>\n",
       "      <td>0.999298</td>\n",
       "      <td>0.999298</td>\n",
       "      <td>0.999298</td>\n",
       "      <td>0.003447</td>\n",
       "      <td>0.997984</td>\n",
       "      <td>0.997984</td>\n",
       "      <td>0.997984</td>\n",
       "    </tr>\n",
       "    <tr>\n",
       "      <th>3</th>\n",
       "      <td>0.003928</td>\n",
       "      <td>0.998495</td>\n",
       "      <td>0.998495</td>\n",
       "      <td>0.998495</td>\n",
       "      <td>0.006690</td>\n",
       "      <td>0.997984</td>\n",
       "      <td>0.997984</td>\n",
       "      <td>0.997984</td>\n",
       "    </tr>\n",
       "    <tr>\n",
       "      <th>2</th>\n",
       "      <td>0.002540</td>\n",
       "      <td>0.999498</td>\n",
       "      <td>0.999498</td>\n",
       "      <td>0.999498</td>\n",
       "      <td>0.004426</td>\n",
       "      <td>0.996976</td>\n",
       "      <td>0.996976</td>\n",
       "      <td>0.996976</td>\n",
       "    </tr>\n",
       "  </tbody>\n",
       "</table>\n",
       "</div>"
      ],
      "text/plain": [
       "        loss    recall  accuracy  precision  val_loss  val_recall  \\\n",
       "10  0.001474  0.999599  0.999599   0.999599  0.000200    1.000000   \n",
       "12  0.000691  0.999699  0.999699   0.999699  0.000044    1.000000   \n",
       "17  0.001764  0.999298  0.999298   0.999298  0.000053    1.000000   \n",
       "4   0.002789  0.998997  0.998997   0.998997  0.000180    1.000000   \n",
       "16  0.001331  0.999599  0.999599   0.999599  0.000231    1.000000   \n",
       "15  0.000653  0.999599  0.999599   0.999599  0.000027    1.000000   \n",
       "14  0.001933  0.999398  0.999398   0.999398  0.000271    1.000000   \n",
       "8   0.001705  0.999699  0.999699   0.999699  0.000252    1.000000   \n",
       "9   0.004408  0.998997  0.998997   0.998997  0.000621    1.000000   \n",
       "13  0.001828  0.999197  0.999197   0.999197  0.000717    1.000000   \n",
       "11  0.000169  1.000000  1.000000   1.000000  0.000070    1.000000   \n",
       "18  0.002309  0.999498  0.999498   0.999498  0.001765    0.998992   \n",
       "0   0.036586  0.988664  0.988664   0.988664  0.003198    0.998992   \n",
       "1   0.007154  0.997893  0.997893   0.997893  0.001635    0.998992   \n",
       "7   0.001105  0.999599  0.999599   0.999599  0.001963    0.998992   \n",
       "6   0.002049  0.999498  0.999498   0.999498  0.003096    0.998992   \n",
       "19  0.001596  0.999599  0.999599   0.999599  0.001687    0.998992   \n",
       "5   0.002576  0.999298  0.999298   0.999298  0.003447    0.997984   \n",
       "3   0.003928  0.998495  0.998495   0.998495  0.006690    0.997984   \n",
       "2   0.002540  0.999498  0.999498   0.999498  0.004426    0.996976   \n",
       "\n",
       "    val_accuracy  val_precision  \n",
       "10      1.000000       1.000000  \n",
       "12      1.000000       1.000000  \n",
       "17      1.000000       1.000000  \n",
       "4       1.000000       1.000000  \n",
       "16      1.000000       1.000000  \n",
       "15      1.000000       1.000000  \n",
       "14      1.000000       1.000000  \n",
       "8       1.000000       1.000000  \n",
       "9       1.000000       1.000000  \n",
       "13      1.000000       1.000000  \n",
       "11      1.000000       1.000000  \n",
       "18      0.998992       0.998992  \n",
       "0       0.998992       0.998992  \n",
       "1       0.998992       0.998992  \n",
       "7       0.998992       0.998992  \n",
       "6       0.998992       0.998992  \n",
       "19      0.998992       0.998992  \n",
       "5       0.997984       0.997984  \n",
       "3       0.997984       0.997984  \n",
       "2       0.996976       0.996976  "
      ]
     },
     "execution_count": 13,
     "metadata": {},
     "output_type": "execute_result"
    }
   ],
   "source": [
    "import pandas as pd\n",
    "\n",
    "train_stats = pd.DataFrame(history.history)\n",
    "\n",
    "train_stats.sort_values(by=['val_recall'], inplace=False, ascending=False)"
   ]
  },
  {
   "cell_type": "code",
   "execution_count": 14,
   "metadata": {},
   "outputs": [
    {
     "data": {
      "text/plain": [
       "<AxesSubplot:>"
      ]
     },
     "execution_count": 14,
     "metadata": {},
     "output_type": "execute_result"
    },
    {
     "data": {
      "image/png": "[encoded data removed]",
      "text/plain": [
       "<Figure size 432x288 with 1 Axes>"
      ]
     },
     "metadata": {
      "needs_background": "light"
     },
     "output_type": "display_data"
    }
   ],
   "source": [
    "train_stats.plot(y=['recall', 'val_recall'], kind='line')"
   ]
  },
  {
   "cell_type": "code",
   "execution_count": 15,
   "metadata": {},
   "outputs": [
    {
     "data": {
      "text/plain": [
       "<AxesSubplot:>"
      ]
     },
     "execution_count": 15,
     "metadata": {},
     "output_type": "execute_result"
    },
    {
     "data": {
      "image/png": "[encoded data removed]",
      "text/plain": [
       "<Figure size 432x288 with 1 Axes>"
      ]
     },
     "metadata": {
      "needs_background": "light"
     },
     "output_type": "display_data"
    }
   ],
   "source": [
    "train_stats.plot(y=['precision', 'val_precision'], kind='line')"
   ]
  },
  {
   "cell_type": "code",
   "execution_count": 16,
   "metadata": {},
   "outputs": [
    {
     "data": {
      "text/plain": [
       "<AxesSubplot:>"
      ]
     },
     "execution_count": 16,
     "metadata": {},
     "output_type": "execute_result"
    },
    {
     "data": {
      "image/png": "[encoded data removed]",
      "text/plain": [
       "<Figure size 432x288 with 1 Axes>"
      ]
     },
     "metadata": {
      "needs_background": "light"
     },
     "output_type": "display_data"
    }
   ],
   "source": [
    "train_stats.plot(y=['accuracy', 'val_accuracy'], kind='line')"
   ]
  },
  {
   "cell_type": "code",
   "execution_count": 17,
   "metadata": {},
   "outputs": [
    {
     "data": {
      "text/plain": [
       "<AxesSubplot:>"
      ]
     },
     "execution_count": 17,
     "metadata": {},
     "output_type": "execute_result"
    },
    {
     "data": {
      "image/png": "[encoded data removed]",
      "text/plain": [
       "<Figure size 432x288 with 1 Axes>"
      ]
     },
     "metadata": {
      "needs_background": "light"
     },
     "output_type": "display_data"
    }
   ],
   "source": [
    "train_stats.plot(y=['loss', 'val_loss'], kind='line')"
   ]
  },
  {
   "cell_type": "code",
   "execution_count": 19,
   "metadata": {},
   "outputs": [
    {
     "name": "stderr",
     "output_type": "stream",
     "text": [
      "/opt/conda/lib/python3.7/site-packages/tensorflow/python/keras/engine/training.py:1905: UserWarning: `Model.predict_generator` is deprecated and will be removed in a future version. Please use `Model.predict`, which supports generators.\n",
      "  warnings.warn('`Model.predict_generator` is deprecated and '\n"
     ]
    },
    {
     "name": "stdout",
     "output_type": "stream",
     "text": [
      "Classification Report\n",
      "              precision    recall  f1-score   support\n",
      "\n",
      "    WithMask       0.47      0.47      0.47       483\n",
      " WithoutMask       0.50      0.50      0.50       509\n",
      "\n",
      "    accuracy                           0.49       992\n",
      "   macro avg       0.49      0.49      0.49       992\n",
      "weighted avg       0.49      0.49      0.49       992\n",
      "\n"
     ]
    }
   ],
   "source": [
    "from sklearn.metrics import classification_report\n",
    "\n",
    "target_names = []\n",
    "\n",
    "for key in train_generator.class_indices:\n",
    "    target_names.append(key)\n",
    "\n",
    "Y_pred = model.predict(validation_generator)\n",
    "y_pred = np.argmax(Y_pred, axis=1)\n",
    "\n",
    "print('Classification Report')\n",
    "print(classification_report(validation_generator.classes, y_pred, target_names=target_names))"
   ]
  },
  {
   "cell_type": "code",
   "execution_count": 20,
   "metadata": {},
   "outputs": [
    {
     "data": {
      "text/plain": [
       "array([[1.0000000e+00, 2.4042211e-11]], dtype=float32)"
      ]
     },
     "execution_count": 20,
     "metadata": {},
     "output_type": "execute_result"
    }
   ],
   "source": [
    "img_path = '../input/face-mask-12k-images-dataset/Face Mask Dataset/Validation/WithMask/1002.png'\n",
    "img = image.load_img(img_path, target_size = (image_size, image_size, 3))\n",
    "img = image.img_to_array(img)\n",
    "img = np.expand_dims(img, axis = 0)\n",
    "\n",
    "model.predict(img)"
   ]
  },
  {
   "cell_type": "code",
   "execution_count": 23,
   "metadata": {},
   "outputs": [
    {
     "data": {
      "text/plain": [
       "array([[9.9987459e-01, 1.2541894e-04]], dtype=float32)"
      ]
     },
     "execution_count": 23,
     "metadata": {},
     "output_type": "execute_result"
    }
   ],
   "source": [
    "img_path = '../input/face-mask-12k-images-dataset/Face Mask Dataset/Validation/WithoutMask/1016.png'\n",
    "img = image.load_img(img_path, target_size = (image_size, image_size, 3))\n",
    "img = image.img_to_array(img)\n",
    "img = np.expand_dims(img, axis = 0)\n",
    "\n",
    "model.predict(img)"
   ]
  },
  {
   "cell_type": "code",
   "execution_count": null,
   "metadata": {},
   "outputs": [],
   "source": []
  }
 ],
 "metadata": {
  "kernelspec": {
   "display_name": "Python 3",
   "language": "python",
   "name": "python3"
  },
  "language_info": {
   "codemirror_mode": {
    "name": "ipython",
    "version": 3
   },
   "file_extension": ".py",
   "mimetype": "text/x-python",
   "name": "python",
   "nbconvert_exporter": "python",
   "pygments_lexer": "ipython3",
   "version": "3.7.4"
  }
 },
 "nbformat": 4,
 "nbformat_minor": 4
}
